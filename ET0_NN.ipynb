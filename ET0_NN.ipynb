{
 "cells": [
  {
   "cell_type": "code",
   "execution_count": 1,
   "id": "1a8725aa",
   "metadata": {},
   "outputs": [],
   "source": [
    "import xarray as xr\n",
    "import numpy as np\n",
    "import matplotlib.pyplot as plt\n",
    "import matplotlib.cm as cm\n",
    "from datetime import datetime\n",
    "import pandas as pd\n",
    "from glob import glob"
   ]
  },
  {
   "cell_type": "code",
   "execution_count": 2,
   "id": "40ca02b0",
   "metadata": {},
   "outputs": [],
   "source": [
    "# import zipfile\n",
    "\n",
    "# #** unzip the folder GLEM_daily_dataset.zip **\n",
    "# with zipfile.ZipFile(\"GLEM_daily_dataset.zip\", \"r\") as zip_ref:\n",
    "#     zip_ref.extractall(\"GLEM_daily_dataset\")\n",
    "\n",
    "# #** unzip the folder MADIA_daily_dataset_v1.3.zip **\n",
    "# with zipfile.ZipFile(\"MADIA_daily_dataset_v1.3.zip\", \"r\") as zip_ref:\n",
    "#     zip_ref.extractall(\"MADIA_daily_dataset_v1.3\")"
   ]
  },
  {
   "cell_type": "code",
   "execution_count": 3,
   "id": "178c3bab",
   "metadata": {},
   "outputs": [
    {
     "name": "stdout",
     "output_type": "stream",
     "text": [
      "   longitude  latitude        time    tasmin    tasmax   tasmean     rhmin  \\\n",
      "0       7.25      44.0  2019-01-01 -1.882935  7.693695  2.905380  0.561286   \n",
      "1       7.25      44.0  2019-01-02 -0.138916  9.710541  4.785812  0.303144   \n",
      "2       7.25      44.0  2019-01-03 -2.536804  5.121948  1.292572  0.643776   \n",
      "3       7.25      44.0  2019-01-04 -3.622375  3.283539 -0.169418  0.570179   \n",
      "4       7.25      44.0  2019-01-05 -3.332275  7.154938  1.911331  0.360605   \n",
      "\n",
      "      rhmax      ws10      ssrd       ppn       pev  expver  mask  \n",
      "0  0.847341  0.904585  5.053230  0.006468  0.449662     1.0   1.0  \n",
      "1  0.819870  1.146744  5.525545  5.398749  0.686820     1.0   1.0  \n",
      "2  0.896526  1.006395  5.724902  3.243667  0.366639     1.0   1.0  \n",
      "3  0.878090  0.981817  4.451830  1.948434  0.424469     1.0   1.0  \n",
      "4  0.662648  1.386134  7.364854  0.008526  0.647863     1.0   1.0  \n"
     ]
    }
   ],
   "source": [
    "#** load the dataframe of climatological variables **\n",
    "\n",
    "# load data from the csv files\n",
    "csv_files = sorted(glob(\"./MADIA_daily_dataset_v1.3/csv_data/*_e5_d.csv\"))\n",
    "csv_files = [file for file in csv_files if 2019 <= int(file.split('/')[-1].split('_')[0]) <= 2023]\n",
    "\n",
    "dailyClimatological_data = pd.DataFrame()\n",
    "\n",
    "for file in csv_files:\n",
    "    df = pd.read_csv(file)\n",
    "\n",
    "    # keep only the data that are referred to the Piedmont region\n",
    "    df_piedmont = df[df['latitude'].between(44.0, 46.5) & df['longitude'].between(6.5, 9.0)]\n",
    "    \n",
    "    global_dailyClimatological_data = pd.concat([dailyClimatological_data, df], ignore_index=True)\n",
    "    dailyClimatological_data = pd.concat([dailyClimatological_data, df_piedmont], ignore_index=True)\n",
    "\n",
    "print(dailyClimatological_data.head())\n",
    "\n",
    "# tasmin    mean of daily minimum near-surface air temperature\n",
    "# tasmean   mean of daily average near-surface air temperature\n",
    "# tasmax    mean of daily maximum near-surface air temperature\n",
    "# rhmin     mean of daily minimum near-surface relative air humidity\n",
    "# rhmax     mean of daily maximum near-surface relative air humidity\n",
    "# ws10      mean of daily wind speed\n",
    "# ssrd      mean of daily surface solar radiation downwards (shortwave radiation)\n",
    "# ppn       sum of daily depth of water-equivalent precipitation\n",
    "# pev       sum of daily crop reference evapotranspiration estimated by FAO Penman-Monteith method\n",
    "# zg        geopotential height: average cell height (metres) above the geoid, which corresponds approximately to the elevation\n",
    "# dekad     number of dekad from the beginning of the year\n",
    "# expver    code which identiﬁes temporary data when expver=5\n",
    "# mask      boolean code to identify cells belonging to the Italian country"
   ]
  },
  {
   "cell_type": "code",
   "execution_count": 4,
   "id": "aae206b9",
   "metadata": {},
   "outputs": [
    {
     "data": {
      "image/png": "[encoded data removed]",
      "text/plain": [
       "<Figure size 640x480 with 1 Axes>"
      ]
     },
     "metadata": {},
     "output_type": "display_data"
    }
   ],
   "source": [
    "# **show a plot of the coverage area of the MADIA dataset**\n",
    "# color in red the area of the Piedmont region\n",
    "\n",
    "plt.scatter(global_dailyClimatological_data['longitude'], global_dailyClimatological_data['latitude'], s=1, c='blue', alpha=0.5)\n",
    "plt.scatter(dailyClimatological_data['longitude'], dailyClimatological_data['latitude'], s=1, c='red', alpha=0.5)\n",
    "plt.title('Coverage Area of MADIA Dataset')\n",
    "plt.xlabel('Longitude')\n",
    "plt.ylabel('Latitude')\n",
    "plt.show()"
   ]
  },
  {
   "cell_type": "code",
   "execution_count": 5,
   "id": "dbeb57bf",
   "metadata": {},
   "outputs": [],
   "source": [
    "#** load the dataset of Evapotranspiration from the nc file\n",
    "nc_files = sorted(glob(\"./GLEM_daily_dataset/E_*_GLEAM_v4.2a.nc\"))\n",
    "\n",
    "dailyE_data = []\n",
    "\n",
    "for file in nc_files:\n",
    "    ds = xr.open_dataset(file)\n",
    "\n",
    "    # the evapotranspiration data are referenced to the Global territory\n",
    "    E_lon = ds['lon'].values\n",
    "    E_lat = ds['lat'].values\n",
    "\n",
    "    # the climatological data are referenced to the Italian territory\n",
    "    clim_lon = dailyClimatological_data['longitude'].values\n",
    "    clim_lat = dailyClimatological_data['latitude'].values\n",
    "\n",
    "    # select the evapotranspiration data for the Italian territory\n",
    "    E_lon_idx = np.where((E_lon >= clim_lon.min()) & (E_lon <= clim_lon.max()))\n",
    "    E_lat_idx = np.where((E_lat >= clim_lat.min()) & (E_lat <= clim_lat.max()))\n",
    "    E_lon = E_lon[E_lon_idx]\n",
    "    E_lat = E_lat[E_lat_idx]\n",
    "\n",
    "    E_data = ds['E'].sel(lon=E_lon, lat=E_lat)\n",
    "    dailyE_data.append(E_data)\n",
    "\n",
    "dailyE_data = xr.concat(dailyE_data, dim='time')"
   ]
  },
  {
   "cell_type": "code",
   "execution_count": 6,
   "id": "79712649",
   "metadata": {},
   "outputs": [
    {
     "name": "stderr",
     "output_type": "stream",
     "text": [
      "/tmp/ipykernel_18815/3907745109.py:4: MatplotlibDeprecationWarning: The get_cmap function was deprecated in Matplotlib 3.7 and will be removed in 3.11. Use ``matplotlib.colormaps[name]`` or ``matplotlib.colormaps.get_cmap()`` or ``pyplot.get_cmap()`` instead.\n",
      "  cmap = cm.get_cmap('viridis').copy()    # create a copy of the colormap\n"
     ]
    },
    {
     "data": {
      "image/png": "[encoded data removed]",
      "text/plain": [
       "<Figure size 640x480 with 2 Axes>"
      ]
     },
     "metadata": {},
     "output_type": "display_data"
    },
    {
     "name": "stdout",
     "output_type": "stream",
     "text": [
      "Daily Evapotranspiration shape (time, latitude, longitude): (1826, 25, 22)\n",
      "Number of NaN values in the dataset: 14\n"
     ]
    }
   ],
   "source": [
    "#** show a plot of the Evapotranspiration data **\n",
    "et = dailyE_data.isel(time=1)\n",
    "\n",
    "cmap = cm.get_cmap('viridis').copy()    # create a copy of the colormap\n",
    "cmap.set_bad(color='red')  # highlight NaN values in red\n",
    "\n",
    "et.plot(cmap=cmap)  # plot the data with the modified colormap\n",
    "\n",
    "plt.show()\n",
    "\n",
    "print(f\"Daily Evapotranspiration shape (time, latitude, longitude): {dailyE_data.shape}\")\n",
    "\n",
    "# count the number of pixel that are NaN at any time\n",
    "nan_pixels = np.isnan(dailyE_data).any(dim='time').sum().item()\n",
    "print(f\"Number of NaN values in the dataset: {nan_pixels}\")"
   ]
  },
  {
   "cell_type": "code",
   "execution_count": 7,
   "id": "ac997821",
   "metadata": {},
   "outputs": [
    {
     "name": "stdout",
     "output_type": "stream",
     "text": [
      "   longitude  latitude       time    tasmin    tasmax   tasmean     rhmin  \\\n",
      "0       7.25      44.0 2019-01-01 -1.882935  7.693695  2.905380  0.561286   \n",
      "1       7.25      44.0 2019-01-02 -0.138916  9.710541  4.785812  0.303144   \n",
      "2       7.25      44.0 2019-01-03 -2.536804  5.121948  1.292572  0.643776   \n",
      "3       7.25      44.0 2019-01-04 -3.622375  3.283539 -0.169418  0.570179   \n",
      "4       7.25      44.0 2019-01-05 -3.332275  7.154938  1.911331  0.360605   \n",
      "\n",
      "      rhmax      ws10      ssrd       ppn       pev  expver  mask  \\\n",
      "0  0.847341  0.904585  5.053230  0.006468  0.449662     1.0   1.0   \n",
      "1  0.819870  1.146744  5.525545  5.398749  0.686820     1.0   1.0   \n",
      "2  0.896526  1.006395  5.724902  3.243667  0.366639     1.0   1.0   \n",
      "3  0.878090  0.981817  4.451830  1.948434  0.424469     1.0   1.0   \n",
      "4  0.662648  1.386134  7.364854  0.008526  0.647863     1.0   1.0   \n",
      "\n",
      "   elapsed_days  day_of_year  \n",
      "0             0            1  \n",
      "1             1            2  \n",
      "2             2            3  \n",
      "3             3            4  \n",
      "4             4            5  \n",
      "        longitude  latitude       time     tasmin    tasmax   tasmean  \\\n",
      "128563        8.5      46.5 2022-12-27  -8.421448 -2.847199 -5.634323   \n",
      "128564        8.5      46.5 2022-12-28 -10.357361 -4.847931 -7.602646   \n",
      "128565        8.5      46.5 2022-12-29  -7.375794 -4.213104 -5.794449   \n",
      "128566        8.5      46.5 2022-12-30  -6.161438 -3.498230 -4.829834   \n",
      "128567        8.5      46.5 2022-12-31  -2.619385  0.436523 -1.091431   \n",
      "\n",
      "           rhmin     rhmax      ws10      ssrd       ppn       pev  expver  \\\n",
      "128563  0.835944  0.972692  1.483300  4.868998  1.327223  0.144335     1.0   \n",
      "128564  0.587674  0.907764  0.862484  5.763153  0.227503  0.135109     1.0   \n",
      "128565  0.795931  0.933999  1.006378  4.404737  1.347230  0.164947     1.0   \n",
      "128566  0.930579  0.999885  0.814690  4.006987  4.019221  0.139079     1.0   \n",
      "128567  0.828015  0.989027  1.105790  6.121143  0.389723  0.093201     1.0   \n",
      "\n",
      "        mask  elapsed_days  day_of_year  \n",
      "128563   1.0          1456          361  \n",
      "128564   1.0          1457          362  \n",
      "128565   1.0          1458          363  \n",
      "128566   1.0          1459          364  \n",
      "128567   1.0          1460          365  \n"
     ]
    }
   ],
   "source": [
    "#** evaluate the elapsed_days **\n",
    "dailyClimatological_data['time'] = pd.to_datetime(dailyClimatological_data['time'])\n",
    "dailyClimatological_data['elapsed_days'] = (dailyClimatological_data['time'] - dailyClimatological_data['time'].min()).dt.days.values\n",
    "dailyClimatological_data['day_of_year'] = dailyClimatological_data['time'].dt.dayofyear.values\n",
    "\n",
    "print(dailyClimatological_data.head())\n",
    "print(dailyClimatological_data.tail())"
   ]
  },
  {
   "cell_type": "code",
   "execution_count": 8,
   "id": "059c0bdd",
   "metadata": {},
   "outputs": [
    {
     "name": "stdout",
     "output_type": "stream",
     "text": [
      "   longitude  latitude       time    tasmin    tasmax   tasmean     rhmin  \\\n",
      "0       7.25      44.0 2019-01-01 -1.882935  7.693695  2.905380  0.561286   \n",
      "1       7.25      44.0 2019-01-02 -0.138916  9.710541  4.785812  0.303144   \n",
      "2       7.25      44.0 2019-01-03 -2.536804  5.121948  1.292572  0.643776   \n",
      "3       7.25      44.0 2019-01-04 -3.622375  3.283539 -0.169418  0.570179   \n",
      "4       7.25      44.0 2019-01-05 -3.332275  7.154938  1.911331  0.360605   \n",
      "\n",
      "      rhmax      ws10      ssrd       ppn       pev  expver  mask  \\\n",
      "0  0.847341  0.904585  5.053230  0.006468  0.449662     1.0   1.0   \n",
      "1  0.819870  1.146744  5.525545  5.398749  0.686820     1.0   1.0   \n",
      "2  0.896526  1.006395  5.724902  3.243667  0.366639     1.0   1.0   \n",
      "3  0.878090  0.981817  4.451830  1.948434  0.424469     1.0   1.0   \n",
      "4  0.662648  1.386134  7.364854  0.008526  0.647863     1.0   1.0   \n",
      "\n",
      "   elapsed_days  day_of_year         E  \n",
      "0             0            1  0.182108  \n",
      "1             1            2  0.642770  \n",
      "2             2            3  0.395599  \n",
      "3             3            4  0.260607  \n",
      "4             4            5  0.267958  \n",
      "        longitude  latitude       time     tasmin    tasmax   tasmean  \\\n",
      "128563        8.5      46.5 2022-12-27  -8.421448 -2.847199 -5.634323   \n",
      "128564        8.5      46.5 2022-12-28 -10.357361 -4.847931 -7.602646   \n",
      "128565        8.5      46.5 2022-12-29  -7.375794 -4.213104 -5.794449   \n",
      "128566        8.5      46.5 2022-12-30  -6.161438 -3.498230 -4.829834   \n",
      "128567        8.5      46.5 2022-12-31  -2.619385  0.436523 -1.091431   \n",
      "\n",
      "           rhmin     rhmax      ws10      ssrd       ppn       pev  expver  \\\n",
      "128563  0.835944  0.972692  1.483300  4.868998  1.327223  0.144335     1.0   \n",
      "128564  0.587674  0.907764  0.862484  5.763153  0.227503  0.135109     1.0   \n",
      "128565  0.795931  0.933999  1.006378  4.404737  1.347230  0.164947     1.0   \n",
      "128566  0.930579  0.999885  0.814690  4.006987  4.019221  0.139079     1.0   \n",
      "128567  0.828015  0.989027  1.105790  6.121143  0.389723  0.093201     1.0   \n",
      "\n",
      "        mask  elapsed_days  day_of_year         E  \n",
      "128563   1.0          1456          361  0.084433  \n",
      "128564   1.0          1457          362  0.068997  \n",
      "128565   1.0          1458          363  0.295889  \n",
      "128566   1.0          1459          364  0.326976  \n",
      "128567   1.0          1460          365  0.283631  \n",
      "Correction (degrees) - mean: 0.048863, min: 0.000000, max: 0.111803\n"
     ]
    }
   ],
   "source": [
    "#** associate the Evapotranspiration data to the climatological data **\n",
    "\n",
    "# build a 2D grid of lat/lon points with the evapotranspiration data\n",
    "grid_lat = dailyE_data['lat'].values\n",
    "grid_lon = dailyE_data['lon'].values\n",
    "grid_lon2d, grid_lat2d = np.meshgrid(grid_lon, grid_lat)\n",
    "\n",
    "from scipy.spatial import cKDTree\n",
    "\n",
    "# build a KDTree for fast nearest-neighbor search\n",
    "grid_points = np.column_stack([grid_lat2d.ravel(), grid_lon2d.ravel()])\n",
    "tree = cKDTree(grid_points)\n",
    "\n",
    "# extract (lat, lon) from the climate data\n",
    "query_points = dailyClimatological_data[['latitude', 'longitude']].values\n",
    "\n",
    "# query the nearest grid points once\n",
    "distances, indices = tree.query(query_points)\n",
    "\n",
    "# convert flat indices to 2D (lat_idx, lon_idx)\n",
    "lat_idx, lon_idx = np.unravel_index(indices, grid_lat2d.shape)\n",
    "\n",
    "# time indices, evaluate the amount of days elapsed since the first day of the dataset\n",
    "time_idx = dailyClimatological_data['elapsed_days']\n",
    "\n",
    "# get values from xarray using vectorized indexing\n",
    "E_values = dailyE_data.isel(\n",
    "    time=xr.DataArray(time_idx, dims='points'),\n",
    "    lat=xr.DataArray(lat_idx, dims='points'),\n",
    "    lon=xr.DataArray(lon_idx, dims='points')\n",
    ").values\n",
    "\n",
    "# Assign to DataFrame\n",
    "dailyClimatological_data['E'] = E_values\n",
    "\n",
    "print(dailyClimatological_data.head())\n",
    "print(dailyClimatological_data.tail())\n",
    "\n",
    "print(f\"Correction (degrees) - mean: {np.mean(distances):.6f}, min: {np.min(distances):.6f}, max: {np.max(distances):.6f}\")"
   ]
  },
  {
   "cell_type": "code",
   "execution_count": 9,
   "id": "575589d3",
   "metadata": {},
   "outputs": [
    {
     "data": {
      "image/png": "[encoded data removed]",
      "text/plain": [
       "<Figure size 640x480 with 2 Axes>"
      ]
     },
     "metadata": {},
     "output_type": "display_data"
    }
   ],
   "source": [
    "#** show a plot of the Evapotranspiration data with the MADIA dataset **\n",
    "et = dailyClimatological_data[dailyClimatological_data['elapsed_days'] == 1]\n",
    "plt.scatter(et['longitude'], et['latitude'], s=1, c=et['E'], cmap='viridis')\n",
    "plt.colorbar(label='Evapotranspiration (mm/day)')\n",
    "plt.title(f'Evapotranspiration Data with MADIA Dataset {et[\"time\"].dt.strftime(\"%Y-%m-%d\").values[0]}')\n",
    "plt.xlabel('Longitude')\n",
    "plt.ylabel('Latitude')\n",
    "plt.show()"
   ]
  },
  {
   "cell_type": "code",
   "execution_count": 10,
   "id": "d5f44b73",
   "metadata": {},
   "outputs": [
    {
     "name": "stdout",
     "output_type": "stream",
     "text": [
      "Number of rows before dropping NaN values: 128568\n",
      "Number of rows after dropping NaN values: 127107\n"
     ]
    }
   ],
   "source": [
    "#** drop the rows with NaN values in the Evapotranspiration column **\n",
    "print(f\"Number of rows before dropping NaN values: {len(dailyClimatological_data)}\")\n",
    "dailyClimatological_data = dailyClimatological_data.dropna(subset=['E'])\n",
    "print(f\"Number of rows after dropping NaN values: {len(dailyClimatological_data)}\")"
   ]
  },
  {
   "cell_type": "code",
   "execution_count": 11,
   "id": "1262b5ad",
   "metadata": {},
   "outputs": [
    {
     "name": "stdout",
     "output_type": "stream",
     "text": [
      "Index(['longitude', 'latitude', 'time', 'tasmin', 'tasmax', 'tasmean', 'rhmin',\n",
      "       'rhmax', 'ws10', 'ssrd', 'ppn', 'pev', 'expver', 'mask', 'elapsed_days',\n",
      "       'day_of_year', 'E'],\n",
      "      dtype='object')\n"
     ]
    }
   ],
   "source": [
    "#** print the fields of the dataframe **\n",
    "print(dailyClimatological_data.columns)"
   ]
  },
  {
   "cell_type": "code",
   "execution_count": 12,
   "id": "f42473f4",
   "metadata": {},
   "outputs": [
    {
     "name": "stdout",
     "output_type": "stream",
     "text": [
      "   longitude  latitude       time    tasmin    tasmax   tasmean     rhmin  \\\n",
      "0       7.25      44.0 2019-01-01  0.480521  0.438215  0.449180  0.553127   \n",
      "1       7.25      44.0 2019-01-02  0.511694  0.471987  0.482378  0.289283   \n",
      "2       7.25      44.0 2019-01-03  0.468833  0.395152  0.420706  0.637439   \n",
      "3       7.25      44.0 2019-01-04  0.449429  0.364368  0.394895  0.562217   \n",
      "4       7.25      44.0 2019-01-05  0.454615  0.429194  0.431630  0.348014   \n",
      "\n",
      "      rhmax      ws10      ssrd       ppn       pev  expver  mask  \\\n",
      "0  0.806139  0.060332  0.150205  0.000034  0.449662     1.0   1.0   \n",
      "1  0.771313  0.080010  0.165024  0.028310  0.686820     1.0   1.0   \n",
      "2  0.868496  0.068606  0.171279  0.017009  0.366639     1.0   1.0   \n",
      "3  0.845123  0.066608  0.131335  0.010217  0.424469     1.0   1.0   \n",
      "4  0.571988  0.099463  0.222733  0.000045  0.647863     1.0   1.0   \n",
      "\n",
      "   elapsed_days  day_of_year         E  \n",
      "0             0     0.000000  0.041058  \n",
      "1             1     0.002740  0.122753  \n",
      "2             2     0.005479  0.078919  \n",
      "3             3     0.008219  0.054979  \n",
      "4             4     0.010959  0.056282  \n"
     ]
    }
   ],
   "source": [
    "#** apply normalization to the features **\n",
    "from sklearn.preprocessing import MinMaxScaler\n",
    "\n",
    "# normilize the features\n",
    "features = ['day_of_year', 'tasmin', 'tasmean', 'tasmax', 'rhmin', 'rhmax', 'ws10', 'ssrd', 'ppn']\n",
    "featureScaler = MinMaxScaler()\n",
    "dailyClimatological_data[features] = featureScaler.fit_transform(dailyClimatological_data[features])\n",
    "\n",
    "# normilize the target\n",
    "target = 'E'\n",
    "targetScaler = MinMaxScaler()\n",
    "dailyClimatological_data[target] = targetScaler.fit_transform(dailyClimatological_data[[target]])\n",
    "\n",
    "print(dailyClimatological_data.head())"
   ]
  },
  {
   "cell_type": "code",
   "execution_count": 13,
   "id": "f23e4e46",
   "metadata": {},
   "outputs": [],
   "source": [
    "# ** build the dataset for a ML model **\n",
    "\n",
    "# dynamic time wrapping (DTW)\n",
    "# X = dailyClimatological_data[features]\n",
    "# y = dailyClimatological_data[target]"
   ]
  },
  {
   "cell_type": "markdown",
   "id": "d6d06214",
   "metadata": {},
   "source": [
    "**LSTM:**\n",
    "- sequence lenght = 30\n",
    "- features = ['day_of_year', 'tasmin', 'tasmean', 'tasmax', 'rhmin', 'rhmax', 'ws10', 'ssrd', 'ppn']\n",
    "- loss = Huber loss"
   ]
  },
  {
   "cell_type": "code",
   "execution_count": 14,
   "id": "b0b38b07",
   "metadata": {},
   "outputs": [],
   "source": [
    "#** select random samples from the dataset **\n",
    " \n",
    "# select half of the unique points in the dataset\n",
    "n_samples = int(len(np.unique(dailyClimatological_data[['longitude', 'latitude']])) / 2)\n",
    "unique_locations = dailyClimatological_data[['longitude', 'latitude']].drop_duplicates()\n",
    "\n",
    "# sample n_samples unique locations\n",
    "sampled_locations = unique_locations.sample(n=n_samples, random_state=42)\n",
    "\n",
    "X_sequences = []\n",
    "y_sequences = []\n",
    "\n",
    "sequence_length = 30\n",
    "\n",
    "for _, loc in sampled_locations.iterrows():\n",
    "    loc_data = dailyClimatological_data[\n",
    "        (dailyClimatological_data['longitude'] == loc['longitude']) &\n",
    "        (dailyClimatological_data['latitude'] == loc['latitude'])\n",
    "    ].sort_values(by='elapsed_days')\n",
    "\n",
    "    features = loc_data[['day_of_year', 'tasmin', 'tasmean', 'tasmax', 'rhmin', 'rhmax', 'ws10', 'ssrd', 'ppn']].values\n",
    "    target = loc_data['E'].values\n",
    "        \n",
    "    for i in range(len(loc_data) - sequence_length):\n",
    "        X_seq = features[i:i+sequence_length]\n",
    "        y_val = target[i+sequence_length]\n",
    "        X_sequences.append(X_seq)\n",
    "        y_sequences.append(y_val)\n",
    "\n",
    "X = np.array(X_sequences)\n",
    "y = np.array(y_sequences)"
   ]
  },
  {
   "cell_type": "code",
   "execution_count": 15,
   "id": "e9864b66",
   "metadata": {},
   "outputs": [
    {
     "name": "stdout",
     "output_type": "stream",
     "text": [
      "Feature matrix shape: (14310, 30, 9)\n",
      "Target vector shape: (14310,)\n",
      "[[0.00000000e+00 4.39902354e-01 4.05382116e-01 3.93186352e-01\n",
      "  3.44009005e-01 6.23168365e-01 1.51962696e-01 1.70812989e-01\n",
      "  0.00000000e+00]\n",
      " [2.73972603e-03 4.52824393e-01 3.92710348e-01 3.57043669e-01\n",
      "  4.00312007e-01 4.81236781e-01 1.71164417e-01 1.59783654e-01\n",
      "  5.95046052e-04]\n",
      " [5.47945205e-03 4.02267584e-01 3.55467378e-01 3.33757984e-01\n",
      "  3.36294769e-01 4.04081466e-01 1.63102270e-01 1.97750559e-01\n",
      "  0.00000000e+00]\n",
      " [8.21917808e-03 3.66073438e-01 3.27329473e-01 3.14289029e-01\n",
      "  3.84726369e-01 5.40640804e-01 1.48519021e-01 1.88304435e-01\n",
      "  0.00000000e+00]\n",
      " [1.09589041e-02 3.86361735e-01 3.62488991e-01 3.61977977e-01\n",
      "  4.40571862e-01 4.68841223e-01 2.04413295e-01 1.76825280e-01\n",
      "  5.07170703e-04]]\n",
      "0.07030196\n"
     ]
    }
   ],
   "source": [
    "#** build a dataset of shape (n_samples, n_features) **\n",
    "print(f\"Feature matrix shape: {X.shape}\")\n",
    "print(f\"Target vector shape: {y.shape}\")\n",
    "print(X[0][:5])\n",
    "print(y[0])"
   ]
  },
  {
   "cell_type": "code",
   "execution_count": 16,
   "id": "42462022",
   "metadata": {},
   "outputs": [
    {
     "name": "stdout",
     "output_type": "stream",
     "text": [
      "Feature matrix shape after shuffle: (14310, 30, 9)\n",
      "Target vector shape after shuffle: (14310,)\n",
      "[[2.10958904e-01 6.06101270e-01 5.94788676e-01 5.96781777e-01\n",
      "  3.55341766e-01 7.37097196e-01 6.53710818e-02 5.46195747e-01\n",
      "  0.00000000e+00]\n",
      " [2.13698630e-01 6.23667040e-01 6.14169297e-01 6.17089808e-01\n",
      "  3.54769254e-01 7.53113102e-01 9.42153621e-02 5.71202882e-01\n",
      "  0.00000000e+00]\n",
      " [2.16438356e-01 6.31565684e-01 5.92710071e-01 5.68983865e-01\n",
      "  4.72461499e-01 8.15773809e-01 1.12304954e-01 4.21831427e-01\n",
      "  3.17036860e-03]\n",
      " [2.19178082e-01 6.05101938e-01 5.89616146e-01 5.87906049e-01\n",
      "  5.04062372e-01 8.54984876e-01 8.90428977e-02 5.69959634e-01\n",
      "  3.62738520e-04]\n",
      " [2.21917808e-01 6.60816315e-01 5.68555615e-01 4.95762838e-01\n",
      "  6.53011884e-01 9.32630151e-01 9.37926702e-02 1.74797178e-01\n",
      "  5.34007885e-02]]\n",
      "0.4022204\n"
     ]
    }
   ],
   "source": [
    "#** mix the sequences of data **\n",
    "from sklearn.utils import shuffle\n",
    "\n",
    "X, y = shuffle(X, y, random_state=42)\n",
    "\n",
    "print(f\"Feature matrix shape after shuffle: {X.shape}\")\n",
    "print(f\"Target vector shape after shuffle: {y.shape}\")\n",
    "print(X[0][:5])\n",
    "print(y[0])"
   ]
  },
  {
   "cell_type": "code",
   "execution_count": 17,
   "id": "fd276752",
   "metadata": {},
   "outputs": [
    {
     "name": "stdout",
     "output_type": "stream",
     "text": [
      "Training set shape: (11448, 30, 9), (11448,)\n",
      "Testing set shape: (2862, 30, 9), (2862,)\n"
     ]
    }
   ],
   "source": [
    "from sklearn.model_selection import train_test_split\n",
    "\n",
    "X_train, X_test, y_train, y_test = train_test_split(X, y, test_size=0.2, random_state=42)\n",
    "\n",
    "print(f\"Training set shape: {X_train.shape}, {y_train.shape}\")\n",
    "print(f\"Testing set shape: {X_test.shape}, {y_test.shape}\")"
   ]
  },
  {
   "cell_type": "code",
   "execution_count": 18,
   "id": "c3392b51",
   "metadata": {},
   "outputs": [
    {
     "name": "stderr",
     "output_type": "stream",
     "text": [
      "2025-05-19 17:00:33.871836: I tensorflow/core/util/port.cc:153] oneDNN custom operations are on. You may see slightly different numerical results due to floating-point round-off errors from different computation orders. To turn them off, set the environment variable `TF_ENABLE_ONEDNN_OPTS=0`.\n",
      "2025-05-19 17:00:33.895119: E external/local_xla/xla/stream_executor/cuda/cuda_fft.cc:467] Unable to register cuFFT factory: Attempting to register factory for plugin cuFFT when one has already been registered\n",
      "WARNING: All log messages before absl::InitializeLog() is called are written to STDERR\n",
      "E0000 00:00:1747666833.919670   18815 cuda_dnn.cc:8579] Unable to register cuDNN factory: Attempting to register factory for plugin cuDNN when one has already been registered\n",
      "E0000 00:00:1747666833.926986   18815 cuda_blas.cc:1407] Unable to register cuBLAS factory: Attempting to register factory for plugin cuBLAS when one has already been registered\n",
      "W0000 00:00:1747666833.944700   18815 computation_placer.cc:177] computation placer already registered. Please check linkage and avoid linking the same target more than once.\n",
      "W0000 00:00:1747666833.944719   18815 computation_placer.cc:177] computation placer already registered. Please check linkage and avoid linking the same target more than once.\n",
      "W0000 00:00:1747666833.944722   18815 computation_placer.cc:177] computation placer already registered. Please check linkage and avoid linking the same target more than once.\n",
      "W0000 00:00:1747666833.944724   18815 computation_placer.cc:177] computation placer already registered. Please check linkage and avoid linking the same target more than once.\n",
      "2025-05-19 17:00:33.950802: I tensorflow/core/platform/cpu_feature_guard.cc:210] This TensorFlow binary is optimized to use available CPU instructions in performance-critical operations.\n",
      "To enable the following instructions: AVX2 AVX512F AVX512_VNNI FMA, in other operations, rebuild TensorFlow with the appropriate compiler flags.\n"
     ]
    },
    {
     "name": "stdout",
     "output_type": "stream",
     "text": [
      "[PhysicalDevice(name='/physical_device:GPU:0', device_type='GPU')]\n"
     ]
    },
    {
     "name": "stderr",
     "output_type": "stream",
     "text": [
      "I0000 00:00:1747666836.753600   18815 gpu_device.cc:2019] Created device /job:localhost/replica:0/task:0/device:GPU:0 with 1722 MB memory:  -> device: 0, name: NVIDIA GeForce MX350, pci bus id: 0000:01:00.0, compute capability: 6.1\n"
     ]
    },
    {
     "data": {
      "text/html": [
       "<pre style=\"white-space:pre;overflow-x:auto;line-height:normal;font-family:Menlo,'DejaVu Sans Mono',consolas,'Courier New',monospace\"><span style=\"font-weight: bold\">Model: \"sequential\"</span>\n",
       "</pre>\n"
      ],
      "text/plain": [
       "\u001b[1mModel: \"sequential\"\u001b[0m\n"
      ]
     },
     "metadata": {},
     "output_type": "display_data"
    },
    {
     "data": {
      "text/html": [
       "<pre style=\"white-space:pre;overflow-x:auto;line-height:normal;font-family:Menlo,'DejaVu Sans Mono',consolas,'Courier New',monospace\">┏━━━━━━━━━━━━━━━━━━━━━━━━━━━━━━━━━┳━━━━━━━━━━━━━━━━━━━━━━━━┳━━━━━━━━━━━━━━━┓\n",
       "┃<span style=\"font-weight: bold\"> Layer (type)                    </span>┃<span style=\"font-weight: bold\"> Output Shape           </span>┃<span style=\"font-weight: bold\">       Param # </span>┃\n",
       "┡━━━━━━━━━━━━━━━━━━━━━━━━━━━━━━━━━╇━━━━━━━━━━━━━━━━━━━━━━━━╇━━━━━━━━━━━━━━━┩\n",
       "│ lstm (<span style=\"color: #0087ff; text-decoration-color: #0087ff\">LSTM</span>)                     │ (<span style=\"color: #00d7ff; text-decoration-color: #00d7ff\">None</span>, <span style=\"color: #00af00; text-decoration-color: #00af00\">30</span>, <span style=\"color: #00af00; text-decoration-color: #00af00\">128</span>)        │        <span style=\"color: #00af00; text-decoration-color: #00af00\">70,656</span> │\n",
       "├─────────────────────────────────┼────────────────────────┼───────────────┤\n",
       "│ lstm_1 (<span style=\"color: #0087ff; text-decoration-color: #0087ff\">LSTM</span>)                   │ (<span style=\"color: #00d7ff; text-decoration-color: #00d7ff\">None</span>, <span style=\"color: #00af00; text-decoration-color: #00af00\">64</span>)             │        <span style=\"color: #00af00; text-decoration-color: #00af00\">49,408</span> │\n",
       "├─────────────────────────────────┼────────────────────────┼───────────────┤\n",
       "│ dropout (<span style=\"color: #0087ff; text-decoration-color: #0087ff\">Dropout</span>)               │ (<span style=\"color: #00d7ff; text-decoration-color: #00d7ff\">None</span>, <span style=\"color: #00af00; text-decoration-color: #00af00\">64</span>)             │             <span style=\"color: #00af00; text-decoration-color: #00af00\">0</span> │\n",
       "├─────────────────────────────────┼────────────────────────┼───────────────┤\n",
       "│ dense (<span style=\"color: #0087ff; text-decoration-color: #0087ff\">Dense</span>)                   │ (<span style=\"color: #00d7ff; text-decoration-color: #00d7ff\">None</span>, <span style=\"color: #00af00; text-decoration-color: #00af00\">64</span>)             │         <span style=\"color: #00af00; text-decoration-color: #00af00\">4,160</span> │\n",
       "├─────────────────────────────────┼────────────────────────┼───────────────┤\n",
       "│ dense_1 (<span style=\"color: #0087ff; text-decoration-color: #0087ff\">Dense</span>)                 │ (<span style=\"color: #00d7ff; text-decoration-color: #00d7ff\">None</span>, <span style=\"color: #00af00; text-decoration-color: #00af00\">1</span>)              │            <span style=\"color: #00af00; text-decoration-color: #00af00\">65</span> │\n",
       "└─────────────────────────────────┴────────────────────────┴───────────────┘\n",
       "</pre>\n"
      ],
      "text/plain": [
       "┏━━━━━━━━━━━━━━━━━━━━━━━━━━━━━━━━━┳━━━━━━━━━━━━━━━━━━━━━━━━┳━━━━━━━━━━━━━━━┓\n",
       "┃\u001b[1m \u001b[0m\u001b[1mLayer (type)                   \u001b[0m\u001b[1m \u001b[0m┃\u001b[1m \u001b[0m\u001b[1mOutput Shape          \u001b[0m\u001b[1m \u001b[0m┃\u001b[1m \u001b[0m\u001b[1m      Param #\u001b[0m\u001b[1m \u001b[0m┃\n",
       "┡━━━━━━━━━━━━━━━━━━━━━━━━━━━━━━━━━╇━━━━━━━━━━━━━━━━━━━━━━━━╇━━━━━━━━━━━━━━━┩\n",
       "│ lstm (\u001b[38;5;33mLSTM\u001b[0m)                     │ (\u001b[38;5;45mNone\u001b[0m, \u001b[38;5;34m30\u001b[0m, \u001b[38;5;34m128\u001b[0m)        │        \u001b[38;5;34m70,656\u001b[0m │\n",
       "├─────────────────────────────────┼────────────────────────┼───────────────┤\n",
       "│ lstm_1 (\u001b[38;5;33mLSTM\u001b[0m)                   │ (\u001b[38;5;45mNone\u001b[0m, \u001b[38;5;34m64\u001b[0m)             │        \u001b[38;5;34m49,408\u001b[0m │\n",
       "├─────────────────────────────────┼────────────────────────┼───────────────┤\n",
       "│ dropout (\u001b[38;5;33mDropout\u001b[0m)               │ (\u001b[38;5;45mNone\u001b[0m, \u001b[38;5;34m64\u001b[0m)             │             \u001b[38;5;34m0\u001b[0m │\n",
       "├─────────────────────────────────┼────────────────────────┼───────────────┤\n",
       "│ dense (\u001b[38;5;33mDense\u001b[0m)                   │ (\u001b[38;5;45mNone\u001b[0m, \u001b[38;5;34m64\u001b[0m)             │         \u001b[38;5;34m4,160\u001b[0m │\n",
       "├─────────────────────────────────┼────────────────────────┼───────────────┤\n",
       "│ dense_1 (\u001b[38;5;33mDense\u001b[0m)                 │ (\u001b[38;5;45mNone\u001b[0m, \u001b[38;5;34m1\u001b[0m)              │            \u001b[38;5;34m65\u001b[0m │\n",
       "└─────────────────────────────────┴────────────────────────┴───────────────┘\n"
      ]
     },
     "metadata": {},
     "output_type": "display_data"
    },
    {
     "data": {
      "text/html": [
       "<pre style=\"white-space:pre;overflow-x:auto;line-height:normal;font-family:Menlo,'DejaVu Sans Mono',consolas,'Courier New',monospace\"><span style=\"font-weight: bold\"> Total params: </span><span style=\"color: #00af00; text-decoration-color: #00af00\">124,289</span> (485.50 KB)\n",
       "</pre>\n"
      ],
      "text/plain": [
       "\u001b[1m Total params: \u001b[0m\u001b[38;5;34m124,289\u001b[0m (485.50 KB)\n"
      ]
     },
     "metadata": {},
     "output_type": "display_data"
    },
    {
     "data": {
      "text/html": [
       "<pre style=\"white-space:pre;overflow-x:auto;line-height:normal;font-family:Menlo,'DejaVu Sans Mono',consolas,'Courier New',monospace\"><span style=\"font-weight: bold\"> Trainable params: </span><span style=\"color: #00af00; text-decoration-color: #00af00\">124,289</span> (485.50 KB)\n",
       "</pre>\n"
      ],
      "text/plain": [
       "\u001b[1m Trainable params: \u001b[0m\u001b[38;5;34m124,289\u001b[0m (485.50 KB)\n"
      ]
     },
     "metadata": {},
     "output_type": "display_data"
    },
    {
     "data": {
      "text/html": [
       "<pre style=\"white-space:pre;overflow-x:auto;line-height:normal;font-family:Menlo,'DejaVu Sans Mono',consolas,'Courier New',monospace\"><span style=\"font-weight: bold\"> Non-trainable params: </span><span style=\"color: #00af00; text-decoration-color: #00af00\">0</span> (0.00 B)\n",
       "</pre>\n"
      ],
      "text/plain": [
       "\u001b[1m Non-trainable params: \u001b[0m\u001b[38;5;34m0\u001b[0m (0.00 B)\n"
      ]
     },
     "metadata": {},
     "output_type": "display_data"
    }
   ],
   "source": [
    "import tensorflow as tf\n",
    "from tensorflow.keras.losses import Huber\n",
    "\n",
    "print(tf.config.list_physical_devices('GPU'))\n",
    "\n",
    "# the model learns to predict the next day ET value based on the previous 30 days of data\n",
    "\n",
    "model = tf.keras.Sequential()\n",
    "\n",
    "model.add(tf.keras.layers.Input(shape=(sequence_length, 9)))  # input shape (sequence_length, n_features)\n",
    "model.add(tf.keras.layers.LSTM(128, return_sequences=True))   # return_sequences=True, each of the LSTM cells returns its sequence of 128 outputs. So the output shape is (batch_size, sequence_length, 128)\n",
    "\n",
    "model.add(tf.keras.layers.LSTM(64, return_sequences=False)) # return_sequences=False, the last LSTM cell returns its last output. So the output shape is (batch_size, 64)\n",
    "model.add(tf.keras.layers.Dropout(0.1))\n",
    "\n",
    "model.add(tf.keras.layers.Dense(64, activation='relu'))\n",
    "\n",
    "model.add(tf.keras.layers.Dense(1))  # predict a single ET value\n",
    "\n",
    "# huber loss function\n",
    "huber_loss = Huber(delta=1.0)\n",
    "# compile the model\n",
    "# model.compile(optimizer='adam', loss=huber_loss)\n",
    "model.compile(optimizer='adam', loss=huber_loss)\n",
    "model.summary()"
   ]
  },
  {
   "cell_type": "code",
   "execution_count": 19,
   "id": "857807b7",
   "metadata": {},
   "outputs": [
    {
     "name": "stdout",
     "output_type": "stream",
     "text": [
      "Epoch 1/50\n"
     ]
    },
    {
     "name": "stderr",
     "output_type": "stream",
     "text": [
      "I0000 00:00:1747666842.077315   18926 cuda_dnn.cc:529] Loaded cuDNN version 90501\n"
     ]
    },
    {
     "name": "stdout",
     "output_type": "stream",
     "text": [
      "\u001b[1m287/287\u001b[0m \u001b[32m━━━━━━━━━━━━━━━━━━━━\u001b[0m\u001b[37m\u001b[0m \u001b[1m9s\u001b[0m 13ms/step - loss: 0.0096 - val_loss: 0.0049\n",
      "Epoch 2/50\n",
      "\u001b[1m287/287\u001b[0m \u001b[32m━━━━━━━━━━━━━━━━━━━━\u001b[0m\u001b[37m\u001b[0m \u001b[1m3s\u001b[0m 12ms/step - loss: 0.0045 - val_loss: 0.0040\n",
      "Epoch 3/50\n",
      "\u001b[1m287/287\u001b[0m \u001b[32m━━━━━━━━━━━━━━━━━━━━\u001b[0m\u001b[37m\u001b[0m \u001b[1m3s\u001b[0m 12ms/step - loss: 0.0040 - val_loss: 0.0040\n",
      "Epoch 4/50\n",
      "\u001b[1m287/287\u001b[0m \u001b[32m━━━━━━━━━━━━━━━━━━━━\u001b[0m\u001b[37m\u001b[0m \u001b[1m4s\u001b[0m 14ms/step - loss: 0.0036 - val_loss: 0.0029\n",
      "Epoch 5/50\n",
      "\u001b[1m287/287\u001b[0m \u001b[32m━━━━━━━━━━━━━━━━━━━━\u001b[0m\u001b[37m\u001b[0m \u001b[1m5s\u001b[0m 16ms/step - loss: 0.0033 - val_loss: 0.0028\n",
      "Epoch 6/50\n",
      "\u001b[1m287/287\u001b[0m \u001b[32m━━━━━━━━━━━━━━━━━━━━\u001b[0m\u001b[37m\u001b[0m \u001b[1m3s\u001b[0m 11ms/step - loss: 0.0034 - val_loss: 0.0026\n",
      "Epoch 7/50\n",
      "\u001b[1m287/287\u001b[0m \u001b[32m━━━━━━━━━━━━━━━━━━━━\u001b[0m\u001b[37m\u001b[0m \u001b[1m3s\u001b[0m 11ms/step - loss: 0.0030 - val_loss: 0.0030\n",
      "Epoch 8/50\n",
      "\u001b[1m287/287\u001b[0m \u001b[32m━━━━━━━━━━━━━━━━━━━━\u001b[0m\u001b[37m\u001b[0m \u001b[1m4s\u001b[0m 12ms/step - loss: 0.0028 - val_loss: 0.0024\n",
      "Epoch 9/50\n",
      "\u001b[1m287/287\u001b[0m \u001b[32m━━━━━━━━━━━━━━━━━━━━\u001b[0m\u001b[37m\u001b[0m \u001b[1m4s\u001b[0m 13ms/step - loss: 0.0029 - val_loss: 0.0039\n",
      "Epoch 10/50\n",
      "\u001b[1m287/287\u001b[0m \u001b[32m━━━━━━━━━━━━━━━━━━━━\u001b[0m\u001b[37m\u001b[0m \u001b[1m3s\u001b[0m 12ms/step - loss: 0.0028 - val_loss: 0.0023\n",
      "Epoch 11/50\n",
      "\u001b[1m287/287\u001b[0m \u001b[32m━━━━━━━━━━━━━━━━━━━━\u001b[0m\u001b[37m\u001b[0m \u001b[1m3s\u001b[0m 11ms/step - loss: 0.0027 - val_loss: 0.0028\n",
      "Epoch 12/50\n",
      "\u001b[1m287/287\u001b[0m \u001b[32m━━━━━━━━━━━━━━━━━━━━\u001b[0m\u001b[37m\u001b[0m \u001b[1m4s\u001b[0m 14ms/step - loss: 0.0031 - val_loss: 0.0024\n",
      "Epoch 13/50\n",
      "\u001b[1m287/287\u001b[0m \u001b[32m━━━━━━━━━━━━━━━━━━━━\u001b[0m\u001b[37m\u001b[0m \u001b[1m4s\u001b[0m 13ms/step - loss: 0.0027 - val_loss: 0.0022\n",
      "Epoch 14/50\n",
      "\u001b[1m287/287\u001b[0m \u001b[32m━━━━━━━━━━━━━━━━━━━━\u001b[0m\u001b[37m\u001b[0m \u001b[1m4s\u001b[0m 13ms/step - loss: 0.0026 - val_loss: 0.0023\n",
      "Epoch 15/50\n",
      "\u001b[1m287/287\u001b[0m \u001b[32m━━━━━━━━━━━━━━━━━━━━\u001b[0m\u001b[37m\u001b[0m \u001b[1m3s\u001b[0m 11ms/step - loss: 0.0024 - val_loss: 0.0022\n",
      "Epoch 16/50\n",
      "\u001b[1m287/287\u001b[0m \u001b[32m━━━━━━━━━━━━━━━━━━━━\u001b[0m\u001b[37m\u001b[0m \u001b[1m4s\u001b[0m 12ms/step - loss: 0.0028 - val_loss: 0.0035\n",
      "Epoch 17/50\n",
      "\u001b[1m287/287\u001b[0m \u001b[32m━━━━━━━━━━━━━━━━━━━━\u001b[0m\u001b[37m\u001b[0m \u001b[1m4s\u001b[0m 13ms/step - loss: 0.0025 - val_loss: 0.0022\n",
      "Epoch 18/50\n",
      "\u001b[1m287/287\u001b[0m \u001b[32m━━━━━━━━━━━━━━━━━━━━\u001b[0m\u001b[37m\u001b[0m \u001b[1m4s\u001b[0m 13ms/step - loss: 0.0025 - val_loss: 0.0022\n",
      "Epoch 19/50\n",
      "\u001b[1m287/287\u001b[0m \u001b[32m━━━━━━━━━━━━━━━━━━━━\u001b[0m\u001b[37m\u001b[0m \u001b[1m4s\u001b[0m 14ms/step - loss: 0.0024 - val_loss: 0.0039\n",
      "Epoch 20/50\n",
      "\u001b[1m287/287\u001b[0m \u001b[32m━━━━━━━━━━━━━━━━━━━━\u001b[0m\u001b[37m\u001b[0m \u001b[1m4s\u001b[0m 12ms/step - loss: 0.0034 - val_loss: 0.0024\n",
      "Epoch 21/50\n",
      "\u001b[1m287/287\u001b[0m \u001b[32m━━━━━━━━━━━━━━━━━━━━\u001b[0m\u001b[37m\u001b[0m \u001b[1m4s\u001b[0m 13ms/step - loss: 0.0026 - val_loss: 0.0023\n",
      "Epoch 22/50\n",
      "\u001b[1m287/287\u001b[0m \u001b[32m━━━━━━━━━━━━━━━━━━━━\u001b[0m\u001b[37m\u001b[0m \u001b[1m3s\u001b[0m 11ms/step - loss: 0.0025 - val_loss: 0.0021\n",
      "Epoch 23/50\n",
      "\u001b[1m287/287\u001b[0m \u001b[32m━━━━━━━━━━━━━━━━━━━━\u001b[0m\u001b[37m\u001b[0m \u001b[1m3s\u001b[0m 11ms/step - loss: 0.0025 - val_loss: 0.0024\n",
      "Epoch 24/50\n",
      "\u001b[1m287/287\u001b[0m \u001b[32m━━━━━━━━━━━━━━━━━━━━\u001b[0m\u001b[37m\u001b[0m \u001b[1m3s\u001b[0m 11ms/step - loss: 0.0024 - val_loss: 0.0024\n",
      "Epoch 25/50\n",
      "\u001b[1m287/287\u001b[0m \u001b[32m━━━━━━━━━━━━━━━━━━━━\u001b[0m\u001b[37m\u001b[0m \u001b[1m3s\u001b[0m 11ms/step - loss: 0.0024 - val_loss: 0.0025\n",
      "Epoch 26/50\n",
      "\u001b[1m287/287\u001b[0m \u001b[32m━━━━━━━━━━━━━━━━━━━━\u001b[0m\u001b[37m\u001b[0m \u001b[1m3s\u001b[0m 11ms/step - loss: 0.0024 - val_loss: 0.0020\n",
      "Epoch 27/50\n",
      "\u001b[1m287/287\u001b[0m \u001b[32m━━━━━━━━━━━━━━━━━━━━\u001b[0m\u001b[37m\u001b[0m \u001b[1m3s\u001b[0m 11ms/step - loss: 0.0023 - val_loss: 0.0022\n",
      "Epoch 28/50\n",
      "\u001b[1m287/287\u001b[0m \u001b[32m━━━━━━━━━━━━━━━━━━━━\u001b[0m\u001b[37m\u001b[0m \u001b[1m3s\u001b[0m 11ms/step - loss: 0.0021 - val_loss: 0.0022\n",
      "Epoch 29/50\n",
      "\u001b[1m287/287\u001b[0m \u001b[32m━━━━━━━━━━━━━━━━━━━━\u001b[0m\u001b[37m\u001b[0m \u001b[1m3s\u001b[0m 11ms/step - loss: 0.0023 - val_loss: 0.0022\n",
      "Epoch 30/50\n",
      "\u001b[1m287/287\u001b[0m \u001b[32m━━━━━━━━━━━━━━━━━━━━\u001b[0m\u001b[37m\u001b[0m \u001b[1m3s\u001b[0m 11ms/step - loss: 0.0023 - val_loss: 0.0027\n",
      "Epoch 31/50\n",
      "\u001b[1m287/287\u001b[0m \u001b[32m━━━━━━━━━━━━━━━━━━━━\u001b[0m\u001b[37m\u001b[0m \u001b[1m3s\u001b[0m 11ms/step - loss: 0.0025 - val_loss: 0.0022\n",
      "Epoch 32/50\n",
      "\u001b[1m287/287\u001b[0m \u001b[32m━━━━━━━━━━━━━━━━━━━━\u001b[0m\u001b[37m\u001b[0m \u001b[1m5s\u001b[0m 17ms/step - loss: 0.0023 - val_loss: 0.0021\n",
      "Epoch 33/50\n",
      "\u001b[1m287/287\u001b[0m \u001b[32m━━━━━━━━━━━━━━━━━━━━\u001b[0m\u001b[37m\u001b[0m \u001b[1m4s\u001b[0m 14ms/step - loss: 0.0023 - val_loss: 0.0023\n",
      "Epoch 34/50\n",
      "\u001b[1m287/287\u001b[0m \u001b[32m━━━━━━━━━━━━━━━━━━━━\u001b[0m\u001b[37m\u001b[0m \u001b[1m3s\u001b[0m 12ms/step - loss: 0.0022 - val_loss: 0.0021\n",
      "Epoch 35/50\n",
      "\u001b[1m287/287\u001b[0m \u001b[32m━━━━━━━━━━━━━━━━━━━━\u001b[0m\u001b[37m\u001b[0m \u001b[1m3s\u001b[0m 11ms/step - loss: 0.0022 - val_loss: 0.0030\n",
      "Epoch 36/50\n",
      "\u001b[1m287/287\u001b[0m \u001b[32m━━━━━━━━━━━━━━━━━━━━\u001b[0m\u001b[37m\u001b[0m \u001b[1m3s\u001b[0m 11ms/step - loss: 0.0022 - val_loss: 0.0023\n",
      "Epoch 37/50\n",
      "\u001b[1m287/287\u001b[0m \u001b[32m━━━━━━━━━━━━━━━━━━━━\u001b[0m\u001b[37m\u001b[0m \u001b[1m3s\u001b[0m 12ms/step - loss: 0.0022 - val_loss: 0.0020\n",
      "Epoch 38/50\n",
      "\u001b[1m287/287\u001b[0m \u001b[32m━━━━━━━━━━━━━━━━━━━━\u001b[0m\u001b[37m\u001b[0m \u001b[1m3s\u001b[0m 11ms/step - loss: 0.0023 - val_loss: 0.0022\n",
      "Epoch 39/50\n",
      "\u001b[1m287/287\u001b[0m \u001b[32m━━━━━━━━━━━━━━━━━━━━\u001b[0m\u001b[37m\u001b[0m \u001b[1m4s\u001b[0m 14ms/step - loss: 0.0022 - val_loss: 0.0023\n",
      "Epoch 40/50\n",
      "\u001b[1m287/287\u001b[0m \u001b[32m━━━━━━━━━━━━━━━━━━━━\u001b[0m\u001b[37m\u001b[0m \u001b[1m3s\u001b[0m 11ms/step - loss: 0.0022 - val_loss: 0.0020\n",
      "Epoch 41/50\n",
      "\u001b[1m287/287\u001b[0m \u001b[32m━━━━━━━━━━━━━━━━━━━━\u001b[0m\u001b[37m\u001b[0m \u001b[1m5s\u001b[0m 18ms/step - loss: 0.0021 - val_loss: 0.0026\n",
      "Epoch 42/50\n",
      "\u001b[1m287/287\u001b[0m \u001b[32m━━━━━━━━━━━━━━━━━━━━\u001b[0m\u001b[37m\u001b[0m \u001b[1m4s\u001b[0m 13ms/step - loss: 0.0022 - val_loss: 0.0020\n",
      "Epoch 43/50\n",
      "\u001b[1m287/287\u001b[0m \u001b[32m━━━━━━━━━━━━━━━━━━━━\u001b[0m\u001b[37m\u001b[0m \u001b[1m4s\u001b[0m 14ms/step - loss: 0.0021 - val_loss: 0.0020\n",
      "Epoch 44/50\n",
      "\u001b[1m287/287\u001b[0m \u001b[32m━━━━━━━━━━━━━━━━━━━━\u001b[0m\u001b[37m\u001b[0m \u001b[1m5s\u001b[0m 17ms/step - loss: 0.0022 - val_loss: 0.0019\n",
      "Epoch 45/50\n",
      "\u001b[1m287/287\u001b[0m \u001b[32m━━━━━━━━━━━━━━━━━━━━\u001b[0m\u001b[37m\u001b[0m \u001b[1m5s\u001b[0m 18ms/step - loss: 0.0021 - val_loss: 0.0019\n",
      "Epoch 46/50\n",
      "\u001b[1m287/287\u001b[0m \u001b[32m━━━━━━━━━━━━━━━━━━━━\u001b[0m\u001b[37m\u001b[0m \u001b[1m3s\u001b[0m 12ms/step - loss: 0.0021 - val_loss: 0.0019\n",
      "Epoch 47/50\n",
      "\u001b[1m287/287\u001b[0m \u001b[32m━━━━━━━━━━━━━━━━━━━━\u001b[0m\u001b[37m\u001b[0m \u001b[1m3s\u001b[0m 12ms/step - loss: 0.0021 - val_loss: 0.0020\n",
      "Epoch 48/50\n",
      "\u001b[1m287/287\u001b[0m \u001b[32m━━━━━━━━━━━━━━━━━━━━\u001b[0m\u001b[37m\u001b[0m \u001b[1m4s\u001b[0m 13ms/step - loss: 0.0022 - val_loss: 0.0022\n",
      "Epoch 49/50\n",
      "\u001b[1m287/287\u001b[0m \u001b[32m━━━━━━━━━━━━━━━━━━━━\u001b[0m\u001b[37m\u001b[0m \u001b[1m5s\u001b[0m 16ms/step - loss: 0.0020 - val_loss: 0.0020\n",
      "Epoch 50/50\n",
      "\u001b[1m287/287\u001b[0m \u001b[32m━━━━━━━━━━━━━━━━━━━━\u001b[0m\u001b[37m\u001b[0m \u001b[1m4s\u001b[0m 15ms/step - loss: 0.0020 - val_loss: 0.0020\n"
     ]
    }
   ],
   "source": [
    "# i am feeding the NN with 32 sequences at a time (batch size). Each of these sequences is made by 30 days of data, each data is made by 8 features\n",
    "# I have 7010 * 0.8 due to train and test set split, these sequences are divided in batches of 32 and with a validation split of 0.2, means that the number of iterations needed to complete each epoch is 7010 * 0.8 * 0.8 / 32 = 140.2\n",
    "history = model.fit(X_train, y_train, epochs=50, batch_size=32, validation_split=0.2)"
   ]
  },
  {
   "cell_type": "code",
   "execution_count": 20,
   "id": "9c72258a",
   "metadata": {},
   "outputs": [
    {
     "name": "stdout",
     "output_type": "stream",
     "text": [
      "\u001b[1m90/90\u001b[0m \u001b[32m━━━━━━━━━━━━━━━━━━━━\u001b[0m\u001b[37m\u001b[0m \u001b[1m1s\u001b[0m 6ms/step\n"
     ]
    }
   ],
   "source": [
    "#** test the model on the test set **\n",
    "y_pred = model.predict(X_test)\n",
    "\n",
    "# invert the normalization of the predicted values\n",
    "y_pred_rescaled = targetScaler.inverse_transform(y_pred)\n",
    "y_test_rescaled = targetScaler.inverse_transform(y_test.reshape(-1, 1))"
   ]
  },
  {
   "cell_type": "code",
   "execution_count": null,
   "id": "767b596f",
   "metadata": {},
   "outputs": [
    {
     "name": "stdout",
     "output_type": "stream",
     "text": [
      "R2 score: 0.8993\n",
      "MAPE: 0.5511\n"
     ]
    }
   ],
   "source": [
    "from sklearn.metrics import r2_score, mean_absolute_percentage_error\n",
    "r2 = r2_score(y_test_rescaled, y_pred_rescaled)\n",
    "mape = mean_absolute_percentage_error(y_test_rescaled, y_pred_rescaled)\n",
    "\n",
    "print(f\"R2 score: {r2:.4f}\")\n",
    "print(f\"MAPE: {mape:.4f}\")"
   ]
  },
  {
   "cell_type": "code",
   "execution_count": 34,
   "id": "ebe37254",
   "metadata": {},
   "outputs": [
    {
     "name": "stdout",
     "output_type": "stream",
     "text": [
      "SMAPE: 24.1836\n"
     ]
    }
   ],
   "source": [
    "def symmetric_mean_absolute_percentage_error(y_true, y_pred):\n",
    "    y_true, y_pred = np.array(y_true), np.array(y_pred)\n",
    "    denominator = (np.abs(y_true) + np.abs(y_pred)) / 2.0\n",
    "    diff = np.abs(y_pred - y_true) / (denominator + 1e-8)\n",
    "    return 100 * np.mean(diff)\n",
    "\n",
    "smape = symmetric_mean_absolute_percentage_error(y_test_rescaled, y_pred_rescaled)\n",
    "print(f\"SMAPE: {smape:.4f}\")"
   ]
  },
  {
   "cell_type": "code",
   "execution_count": 22,
   "id": "1300f783",
   "metadata": {},
   "outputs": [
    {
     "data": {
      "image/png": "[encoded data removed]",
      "text/plain": [
       "<Figure size 640x480 with 1 Axes>"
      ]
     },
     "metadata": {},
     "output_type": "display_data"
    }
   ],
   "source": [
    "#**  see a plot of the accuracy of the predictions **\n",
    "plt.scatter(y_test_rescaled, y_pred_rescaled)\n",
    "plt.plot([min(y_test_rescaled), max(y_test_rescaled)], [min(y_test_rescaled), max(y_test_rescaled)], color='red', lw=2)  # Identity line\n",
    "plt.xlabel('True ET')\n",
    "plt.ylabel('Predicted ET')\n",
    "plt.title('True vs Predicted Evapotranspiration')\n",
    "plt.show()"
   ]
  },
  {
   "cell_type": "markdown",
   "id": "07bf2c00",
   "metadata": {},
   "source": [
    "**LSTM:**\n",
    "- sequence lenght = 14\n",
    "- features = ['day_of_year', 'tasmin', 'tasmean', 'tasmax', 'rhmin', 'rhmax', 'ws10', 'ssrd', 'ppn']\n",
    "- loss = MSE"
   ]
  },
  {
   "cell_type": "code",
   "execution_count": 23,
   "id": "35ccef91",
   "metadata": {},
   "outputs": [],
   "source": [
    "#** select random samples from the dataset **\n",
    " \n",
    "# select half of the unique points in the dataset\n",
    "n_samples = int(len(np.unique(dailyClimatological_data[['longitude', 'latitude']])) / 2)\n",
    "unique_locations = dailyClimatological_data[['longitude', 'latitude']].drop_duplicates()\n",
    "\n",
    "# sample n_samples unique locations\n",
    "sampled_locations = unique_locations.sample(n=n_samples, random_state=42)\n",
    "\n",
    "X_sequences = []\n",
    "y_sequences = []\n",
    "\n",
    "sequence_length = 14\n",
    "\n",
    "for _, loc in sampled_locations.iterrows():\n",
    "    loc_data = dailyClimatological_data[\n",
    "        (dailyClimatological_data['longitude'] == loc['longitude']) &\n",
    "        (dailyClimatological_data['latitude'] == loc['latitude'])\n",
    "    ].sort_values(by='elapsed_days')\n",
    "\n",
    "    features = loc_data[['day_of_year', 'tasmin', 'tasmean', 'tasmax', 'rhmin', 'rhmax', 'ws10', 'ssrd', 'ppn']].values\n",
    "    target = loc_data['E'].values\n",
    "        \n",
    "    for i in range(len(loc_data) - sequence_length):\n",
    "        X_seq = features[i:i+sequence_length]\n",
    "        y_val = target[i+sequence_length]\n",
    "        X_sequences.append(X_seq)\n",
    "        y_sequences.append(y_val)\n",
    "\n",
    "X = np.array(X_sequences)\n",
    "y = np.array(y_sequences)"
   ]
  },
  {
   "cell_type": "code",
   "execution_count": 24,
   "id": "0b797ecc",
   "metadata": {},
   "outputs": [
    {
     "name": "stdout",
     "output_type": "stream",
     "text": [
      "Feature matrix shape: (14470, 14, 9)\n",
      "Target vector shape: (14470,)\n",
      "[[0.00000000e+00 4.39902354e-01 4.05382116e-01 3.93186352e-01\n",
      "  3.44009005e-01 6.23168365e-01 1.51962696e-01 1.70812989e-01\n",
      "  0.00000000e+00]\n",
      " [2.73972603e-03 4.52824393e-01 3.92710348e-01 3.57043669e-01\n",
      "  4.00312007e-01 4.81236781e-01 1.71164417e-01 1.59783654e-01\n",
      "  5.95046052e-04]\n",
      " [5.47945205e-03 4.02267584e-01 3.55467378e-01 3.33757984e-01\n",
      "  3.36294769e-01 4.04081466e-01 1.63102270e-01 1.97750559e-01\n",
      "  0.00000000e+00]\n",
      " [8.21917808e-03 3.66073438e-01 3.27329473e-01 3.14289029e-01\n",
      "  3.84726369e-01 5.40640804e-01 1.48519021e-01 1.88304435e-01\n",
      "  0.00000000e+00]\n",
      " [1.09589041e-02 3.86361735e-01 3.62488991e-01 3.61977977e-01\n",
      "  4.40571862e-01 4.68841223e-01 2.04413295e-01 1.76825280e-01\n",
      "  5.07170703e-04]]\n",
      "0.04691619\n"
     ]
    }
   ],
   "source": [
    "#** build a dataset of shape (n_samples, n_features) **\n",
    "print(f\"Feature matrix shape: {X.shape}\")\n",
    "print(f\"Target vector shape: {y.shape}\")\n",
    "print(X[0][:5])\n",
    "print(y[0])"
   ]
  },
  {
   "cell_type": "code",
   "execution_count": 25,
   "id": "730e76e7",
   "metadata": {},
   "outputs": [
    {
     "name": "stdout",
     "output_type": "stream",
     "text": [
      "Feature matrix shape after shuffle: (14470, 14, 9)\n",
      "Target vector shape after shuffle: (14470,)\n",
      "[[6.02739726e-02 4.34442578e-01 4.06420609e-01 4.00270994e-01\n",
      "  3.39456132e-01 6.08478709e-01 6.59253635e-02 2.43005565e-01\n",
      "  0.00000000e+00]\n",
      " [6.30136986e-02 3.99368867e-01 3.79997632e-01 3.83005510e-01\n",
      "  4.73839973e-01 6.86380399e-01 6.82532934e-02 2.12142714e-01\n",
      "  2.22496906e-03]\n",
      " [6.57534247e-02 4.28484771e-01 3.89128018e-01 3.73049510e-01\n",
      "  5.52180113e-01 8.46279692e-01 7.09232481e-02 2.21804566e-01\n",
      "  8.36861961e-04]\n",
      " [6.84931507e-02 4.30406520e-01 3.90570594e-01 3.73985679e-01\n",
      "  5.18229742e-01 7.74495487e-01 9.10200268e-02 2.35808915e-01\n",
      "  9.39690867e-04]\n",
      " [7.12328767e-02 4.35095523e-01 3.96730164e-01 3.81277276e-01\n",
      "  4.18149762e-01 9.99754227e-01 9.45180081e-02 2.10544244e-01\n",
      "  3.52482630e-02]]\n",
      "0.09709738\n"
     ]
    }
   ],
   "source": [
    "#** mix the sequences of data **\n",
    "from sklearn.utils import shuffle\n",
    "\n",
    "X, y = shuffle(X, y, random_state=42)\n",
    "\n",
    "print(f\"Feature matrix shape after shuffle: {X.shape}\")\n",
    "print(f\"Target vector shape after shuffle: {y.shape}\")\n",
    "print(X[0][:5])\n",
    "print(y[0])"
   ]
  },
  {
   "cell_type": "code",
   "execution_count": 26,
   "id": "d9ffc8b3",
   "metadata": {},
   "outputs": [
    {
     "name": "stdout",
     "output_type": "stream",
     "text": [
      "Training set shape: (11576, 14, 9), (11576,)\n",
      "Testing set shape: (2894, 14, 9), (2894,)\n"
     ]
    }
   ],
   "source": [
    "from sklearn.model_selection import train_test_split\n",
    "\n",
    "X_train, X_test, y_train, y_test = train_test_split(X, y, test_size=0.2, random_state=42)\n",
    "\n",
    "print(f\"Training set shape: {X_train.shape}, {y_train.shape}\")\n",
    "print(f\"Testing set shape: {X_test.shape}, {y_test.shape}\")"
   ]
  },
  {
   "cell_type": "code",
   "execution_count": 27,
   "id": "f3d929b0",
   "metadata": {},
   "outputs": [
    {
     "name": "stdout",
     "output_type": "stream",
     "text": [
      "[PhysicalDevice(name='/physical_device:GPU:0', device_type='GPU')]\n"
     ]
    },
    {
     "data": {
      "text/html": [
       "<pre style=\"white-space:pre;overflow-x:auto;line-height:normal;font-family:Menlo,'DejaVu Sans Mono',consolas,'Courier New',monospace\"><span style=\"font-weight: bold\">Model: \"sequential_1\"</span>\n",
       "</pre>\n"
      ],
      "text/plain": [
       "\u001b[1mModel: \"sequential_1\"\u001b[0m\n"
      ]
     },
     "metadata": {},
     "output_type": "display_data"
    },
    {
     "data": {
      "text/html": [
       "<pre style=\"white-space:pre;overflow-x:auto;line-height:normal;font-family:Menlo,'DejaVu Sans Mono',consolas,'Courier New',monospace\">┏━━━━━━━━━━━━━━━━━━━━━━━━━━━━━━━━━┳━━━━━━━━━━━━━━━━━━━━━━━━┳━━━━━━━━━━━━━━━┓\n",
       "┃<span style=\"font-weight: bold\"> Layer (type)                    </span>┃<span style=\"font-weight: bold\"> Output Shape           </span>┃<span style=\"font-weight: bold\">       Param # </span>┃\n",
       "┡━━━━━━━━━━━━━━━━━━━━━━━━━━━━━━━━━╇━━━━━━━━━━━━━━━━━━━━━━━━╇━━━━━━━━━━━━━━━┩\n",
       "│ lstm_2 (<span style=\"color: #0087ff; text-decoration-color: #0087ff\">LSTM</span>)                   │ (<span style=\"color: #00d7ff; text-decoration-color: #00d7ff\">None</span>, <span style=\"color: #00af00; text-decoration-color: #00af00\">14</span>, <span style=\"color: #00af00; text-decoration-color: #00af00\">128</span>)        │        <span style=\"color: #00af00; text-decoration-color: #00af00\">70,656</span> │\n",
       "├─────────────────────────────────┼────────────────────────┼───────────────┤\n",
       "│ lstm_3 (<span style=\"color: #0087ff; text-decoration-color: #0087ff\">LSTM</span>)                   │ (<span style=\"color: #00d7ff; text-decoration-color: #00d7ff\">None</span>, <span style=\"color: #00af00; text-decoration-color: #00af00\">64</span>)             │        <span style=\"color: #00af00; text-decoration-color: #00af00\">49,408</span> │\n",
       "├─────────────────────────────────┼────────────────────────┼───────────────┤\n",
       "│ dropout_1 (<span style=\"color: #0087ff; text-decoration-color: #0087ff\">Dropout</span>)             │ (<span style=\"color: #00d7ff; text-decoration-color: #00d7ff\">None</span>, <span style=\"color: #00af00; text-decoration-color: #00af00\">64</span>)             │             <span style=\"color: #00af00; text-decoration-color: #00af00\">0</span> │\n",
       "├─────────────────────────────────┼────────────────────────┼───────────────┤\n",
       "│ dense_2 (<span style=\"color: #0087ff; text-decoration-color: #0087ff\">Dense</span>)                 │ (<span style=\"color: #00d7ff; text-decoration-color: #00d7ff\">None</span>, <span style=\"color: #00af00; text-decoration-color: #00af00\">64</span>)             │         <span style=\"color: #00af00; text-decoration-color: #00af00\">4,160</span> │\n",
       "├─────────────────────────────────┼────────────────────────┼───────────────┤\n",
       "│ dense_3 (<span style=\"color: #0087ff; text-decoration-color: #0087ff\">Dense</span>)                 │ (<span style=\"color: #00d7ff; text-decoration-color: #00d7ff\">None</span>, <span style=\"color: #00af00; text-decoration-color: #00af00\">1</span>)              │            <span style=\"color: #00af00; text-decoration-color: #00af00\">65</span> │\n",
       "└─────────────────────────────────┴────────────────────────┴───────────────┘\n",
       "</pre>\n"
      ],
      "text/plain": [
       "┏━━━━━━━━━━━━━━━━━━━━━━━━━━━━━━━━━┳━━━━━━━━━━━━━━━━━━━━━━━━┳━━━━━━━━━━━━━━━┓\n",
       "┃\u001b[1m \u001b[0m\u001b[1mLayer (type)                   \u001b[0m\u001b[1m \u001b[0m┃\u001b[1m \u001b[0m\u001b[1mOutput Shape          \u001b[0m\u001b[1m \u001b[0m┃\u001b[1m \u001b[0m\u001b[1m      Param #\u001b[0m\u001b[1m \u001b[0m┃\n",
       "┡━━━━━━━━━━━━━━━━━━━━━━━━━━━━━━━━━╇━━━━━━━━━━━━━━━━━━━━━━━━╇━━━━━━━━━━━━━━━┩\n",
       "│ lstm_2 (\u001b[38;5;33mLSTM\u001b[0m)                   │ (\u001b[38;5;45mNone\u001b[0m, \u001b[38;5;34m14\u001b[0m, \u001b[38;5;34m128\u001b[0m)        │        \u001b[38;5;34m70,656\u001b[0m │\n",
       "├─────────────────────────────────┼────────────────────────┼───────────────┤\n",
       "│ lstm_3 (\u001b[38;5;33mLSTM\u001b[0m)                   │ (\u001b[38;5;45mNone\u001b[0m, \u001b[38;5;34m64\u001b[0m)             │        \u001b[38;5;34m49,408\u001b[0m │\n",
       "├─────────────────────────────────┼────────────────────────┼───────────────┤\n",
       "│ dropout_1 (\u001b[38;5;33mDropout\u001b[0m)             │ (\u001b[38;5;45mNone\u001b[0m, \u001b[38;5;34m64\u001b[0m)             │             \u001b[38;5;34m0\u001b[0m │\n",
       "├─────────────────────────────────┼────────────────────────┼───────────────┤\n",
       "│ dense_2 (\u001b[38;5;33mDense\u001b[0m)                 │ (\u001b[38;5;45mNone\u001b[0m, \u001b[38;5;34m64\u001b[0m)             │         \u001b[38;5;34m4,160\u001b[0m │\n",
       "├─────────────────────────────────┼────────────────────────┼───────────────┤\n",
       "│ dense_3 (\u001b[38;5;33mDense\u001b[0m)                 │ (\u001b[38;5;45mNone\u001b[0m, \u001b[38;5;34m1\u001b[0m)              │            \u001b[38;5;34m65\u001b[0m │\n",
       "└─────────────────────────────────┴────────────────────────┴───────────────┘\n"
      ]
     },
     "metadata": {},
     "output_type": "display_data"
    },
    {
     "data": {
      "text/html": [
       "<pre style=\"white-space:pre;overflow-x:auto;line-height:normal;font-family:Menlo,'DejaVu Sans Mono',consolas,'Courier New',monospace\"><span style=\"font-weight: bold\"> Total params: </span><span style=\"color: #00af00; text-decoration-color: #00af00\">124,289</span> (485.50 KB)\n",
       "</pre>\n"
      ],
      "text/plain": [
       "\u001b[1m Total params: \u001b[0m\u001b[38;5;34m124,289\u001b[0m (485.50 KB)\n"
      ]
     },
     "metadata": {},
     "output_type": "display_data"
    },
    {
     "data": {
      "text/html": [
       "<pre style=\"white-space:pre;overflow-x:auto;line-height:normal;font-family:Menlo,'DejaVu Sans Mono',consolas,'Courier New',monospace\"><span style=\"font-weight: bold\"> Trainable params: </span><span style=\"color: #00af00; text-decoration-color: #00af00\">124,289</span> (485.50 KB)\n",
       "</pre>\n"
      ],
      "text/plain": [
       "\u001b[1m Trainable params: \u001b[0m\u001b[38;5;34m124,289\u001b[0m (485.50 KB)\n"
      ]
     },
     "metadata": {},
     "output_type": "display_data"
    },
    {
     "data": {
      "text/html": [
       "<pre style=\"white-space:pre;overflow-x:auto;line-height:normal;font-family:Menlo,'DejaVu Sans Mono',consolas,'Courier New',monospace\"><span style=\"font-weight: bold\"> Non-trainable params: </span><span style=\"color: #00af00; text-decoration-color: #00af00\">0</span> (0.00 B)\n",
       "</pre>\n"
      ],
      "text/plain": [
       "\u001b[1m Non-trainable params: \u001b[0m\u001b[38;5;34m0\u001b[0m (0.00 B)\n"
      ]
     },
     "metadata": {},
     "output_type": "display_data"
    }
   ],
   "source": [
    "import tensorflow as tf\n",
    "print(tf.config.list_physical_devices('GPU'))\n",
    "\n",
    "# the model learns to predict the next day ET value based on the previous 30 days of data\n",
    "\n",
    "model = tf.keras.Sequential()\n",
    "\n",
    "model.add(tf.keras.layers.Input(shape=(sequence_length, 9)))  # input shape (sequence_length, n_features)\n",
    "model.add(tf.keras.layers.LSTM(128, return_sequences=True))   # return_sequences=True, each of the LSTM cells returns its sequence of 128 outputs. So the output shape is (batch_size, sequence_length, 128)\n",
    "\n",
    "model.add(tf.keras.layers.LSTM(64, return_sequences=False)) # return_sequences=False, the last LSTM cell returns its last output. So the output shape is (batch_size, 64)\n",
    "model.add(tf.keras.layers.Dropout(0.1))\n",
    "\n",
    "model.add(tf.keras.layers.Dense(64, activation='relu'))\n",
    "\n",
    "model.add(tf.keras.layers.Dense(1))  # predict a single ET value\n",
    "\n",
    "model.compile(optimizer='adam', loss='mse')\n",
    "model.summary()"
   ]
  },
  {
   "cell_type": "code",
   "execution_count": 28,
   "id": "0dc7670a",
   "metadata": {},
   "outputs": [
    {
     "name": "stdout",
     "output_type": "stream",
     "text": [
      "Epoch 1/50\n",
      "\u001b[1m290/290\u001b[0m \u001b[32m━━━━━━━━━━━━━━━━━━━━\u001b[0m\u001b[37m\u001b[0m \u001b[1m8s\u001b[0m 21ms/step - loss: 0.0201 - val_loss: 0.0070\n",
      "Epoch 2/50\n",
      "\u001b[1m290/290\u001b[0m \u001b[32m━━━━━━━━━━━━━━━━━━━━\u001b[0m\u001b[37m\u001b[0m \u001b[1m4s\u001b[0m 15ms/step - loss: 0.0081 - val_loss: 0.0102\n",
      "Epoch 3/50\n",
      "\u001b[1m290/290\u001b[0m \u001b[32m━━━━━━━━━━━━━━━━━━━━\u001b[0m\u001b[37m\u001b[0m \u001b[1m5s\u001b[0m 17ms/step - loss: 0.0083 - val_loss: 0.0069\n",
      "Epoch 4/50\n",
      "\u001b[1m290/290\u001b[0m \u001b[32m━━━━━━━━━━━━━━━━━━━━\u001b[0m\u001b[37m\u001b[0m \u001b[1m5s\u001b[0m 17ms/step - loss: 0.0071 - val_loss: 0.0067\n",
      "Epoch 5/50\n",
      "\u001b[1m290/290\u001b[0m \u001b[32m━━━━━━━━━━━━━━━━━━━━\u001b[0m\u001b[37m\u001b[0m \u001b[1m3s\u001b[0m 11ms/step - loss: 0.0070 - val_loss: 0.0061\n",
      "Epoch 6/50\n",
      "\u001b[1m290/290\u001b[0m \u001b[32m━━━━━━━━━━━━━━━━━━━━\u001b[0m\u001b[37m\u001b[0m \u001b[1m3s\u001b[0m 12ms/step - loss: 0.0064 - val_loss: 0.0056\n",
      "Epoch 7/50\n",
      "\u001b[1m290/290\u001b[0m \u001b[32m━━━━━━━━━━━━━━━━━━━━\u001b[0m\u001b[37m\u001b[0m \u001b[1m3s\u001b[0m 10ms/step - loss: 0.0062 - val_loss: 0.0058\n",
      "Epoch 8/50\n",
      "\u001b[1m290/290\u001b[0m \u001b[32m━━━━━━━━━━━━━━━━━━━━\u001b[0m\u001b[37m\u001b[0m \u001b[1m3s\u001b[0m 12ms/step - loss: 0.0058 - val_loss: 0.0062\n",
      "Epoch 9/50\n",
      "\u001b[1m290/290\u001b[0m \u001b[32m━━━━━━━━━━━━━━━━━━━━\u001b[0m\u001b[37m\u001b[0m \u001b[1m3s\u001b[0m 10ms/step - loss: 0.0060 - val_loss: 0.0055\n",
      "Epoch 10/50\n",
      "\u001b[1m290/290\u001b[0m \u001b[32m━━━━━━━━━━━━━━━━━━━━\u001b[0m\u001b[37m\u001b[0m \u001b[1m3s\u001b[0m 10ms/step - loss: 0.0056 - val_loss: 0.0055\n",
      "Epoch 11/50\n",
      "\u001b[1m290/290\u001b[0m \u001b[32m━━━━━━━━━━━━━━━━━━━━\u001b[0m\u001b[37m\u001b[0m \u001b[1m3s\u001b[0m 10ms/step - loss: 0.0056 - val_loss: 0.0049\n",
      "Epoch 12/50\n",
      "\u001b[1m290/290\u001b[0m \u001b[32m━━━━━━━━━━━━━━━━━━━━\u001b[0m\u001b[37m\u001b[0m \u001b[1m3s\u001b[0m 10ms/step - loss: 0.0054 - val_loss: 0.0053\n",
      "Epoch 13/50\n",
      "\u001b[1m290/290\u001b[0m \u001b[32m━━━━━━━━━━━━━━━━━━━━\u001b[0m\u001b[37m\u001b[0m \u001b[1m3s\u001b[0m 10ms/step - loss: 0.0050 - val_loss: 0.0052\n",
      "Epoch 14/50\n",
      "\u001b[1m290/290\u001b[0m \u001b[32m━━━━━━━━━━━━━━━━━━━━\u001b[0m\u001b[37m\u001b[0m \u001b[1m3s\u001b[0m 10ms/step - loss: 0.0052 - val_loss: 0.0050\n",
      "Epoch 15/50\n",
      "\u001b[1m290/290\u001b[0m \u001b[32m━━━━━━━━━━━━━━━━━━━━\u001b[0m\u001b[37m\u001b[0m \u001b[1m3s\u001b[0m 10ms/step - loss: 0.0051 - val_loss: 0.0050\n",
      "Epoch 16/50\n",
      "\u001b[1m290/290\u001b[0m \u001b[32m━━━━━━━━━━━━━━━━━━━━\u001b[0m\u001b[37m\u001b[0m \u001b[1m3s\u001b[0m 10ms/step - loss: 0.0051 - val_loss: 0.0047\n",
      "Epoch 17/50\n",
      "\u001b[1m290/290\u001b[0m \u001b[32m━━━━━━━━━━━━━━━━━━━━\u001b[0m\u001b[37m\u001b[0m \u001b[1m3s\u001b[0m 10ms/step - loss: 0.0051 - val_loss: 0.0049\n",
      "Epoch 18/50\n",
      "\u001b[1m290/290\u001b[0m \u001b[32m━━━━━━━━━━━━━━━━━━━━\u001b[0m\u001b[37m\u001b[0m \u001b[1m3s\u001b[0m 11ms/step - loss: 0.0050 - val_loss: 0.0051\n",
      "Epoch 19/50\n",
      "\u001b[1m290/290\u001b[0m \u001b[32m━━━━━━━━━━━━━━━━━━━━\u001b[0m\u001b[37m\u001b[0m \u001b[1m3s\u001b[0m 10ms/step - loss: 0.0051 - val_loss: 0.0046\n",
      "Epoch 20/50\n",
      "\u001b[1m290/290\u001b[0m \u001b[32m━━━━━━━━━━━━━━━━━━━━\u001b[0m\u001b[37m\u001b[0m \u001b[1m3s\u001b[0m 11ms/step - loss: 0.0046 - val_loss: 0.0051\n",
      "Epoch 21/50\n",
      "\u001b[1m290/290\u001b[0m \u001b[32m━━━━━━━━━━━━━━━━━━━━\u001b[0m\u001b[37m\u001b[0m \u001b[1m3s\u001b[0m 10ms/step - loss: 0.0050 - val_loss: 0.0044\n",
      "Epoch 22/50\n",
      "\u001b[1m290/290\u001b[0m \u001b[32m━━━━━━━━━━━━━━━━━━━━\u001b[0m\u001b[37m\u001b[0m \u001b[1m3s\u001b[0m 10ms/step - loss: 0.0051 - val_loss: 0.0045\n",
      "Epoch 23/50\n",
      "\u001b[1m290/290\u001b[0m \u001b[32m━━━━━━━━━━━━━━━━━━━━\u001b[0m\u001b[37m\u001b[0m \u001b[1m3s\u001b[0m 11ms/step - loss: 0.0050 - val_loss: 0.0048\n",
      "Epoch 24/50\n",
      "\u001b[1m290/290\u001b[0m \u001b[32m━━━━━━━━━━━━━━━━━━━━\u001b[0m\u001b[37m\u001b[0m \u001b[1m3s\u001b[0m 11ms/step - loss: 0.0048 - val_loss: 0.0044\n",
      "Epoch 25/50\n",
      "\u001b[1m290/290\u001b[0m \u001b[32m━━━━━━━━━━━━━━━━━━━━\u001b[0m\u001b[37m\u001b[0m \u001b[1m4s\u001b[0m 13ms/step - loss: 0.0046 - val_loss: 0.0045\n",
      "Epoch 26/50\n",
      "\u001b[1m290/290\u001b[0m \u001b[32m━━━━━━━━━━━━━━━━━━━━\u001b[0m\u001b[37m\u001b[0m \u001b[1m3s\u001b[0m 10ms/step - loss: 0.0047 - val_loss: 0.0045\n",
      "Epoch 27/50\n",
      "\u001b[1m290/290\u001b[0m \u001b[32m━━━━━━━━━━━━━━━━━━━━\u001b[0m\u001b[37m\u001b[0m \u001b[1m3s\u001b[0m 10ms/step - loss: 0.0048 - val_loss: 0.0054\n",
      "Epoch 28/50\n",
      "\u001b[1m290/290\u001b[0m \u001b[32m━━━━━━━━━━━━━━━━━━━━\u001b[0m\u001b[37m\u001b[0m \u001b[1m3s\u001b[0m 11ms/step - loss: 0.0047 - val_loss: 0.0046\n",
      "Epoch 29/50\n",
      "\u001b[1m290/290\u001b[0m \u001b[32m━━━━━━━━━━━━━━━━━━━━\u001b[0m\u001b[37m\u001b[0m \u001b[1m4s\u001b[0m 13ms/step - loss: 0.0049 - val_loss: 0.0045\n",
      "Epoch 30/50\n",
      "\u001b[1m290/290\u001b[0m \u001b[32m━━━━━━━━━━━━━━━━━━━━\u001b[0m\u001b[37m\u001b[0m \u001b[1m3s\u001b[0m 10ms/step - loss: 0.0048 - val_loss: 0.0045\n",
      "Epoch 31/50\n",
      "\u001b[1m290/290\u001b[0m \u001b[32m━━━━━━━━━━━━━━━━━━━━\u001b[0m\u001b[37m\u001b[0m \u001b[1m3s\u001b[0m 10ms/step - loss: 0.0046 - val_loss: 0.0044\n",
      "Epoch 32/50\n",
      "\u001b[1m290/290\u001b[0m \u001b[32m━━━━━━━━━━━━━━━━━━━━\u001b[0m\u001b[37m\u001b[0m \u001b[1m3s\u001b[0m 10ms/step - loss: 0.0047 - val_loss: 0.0045\n",
      "Epoch 33/50\n",
      "\u001b[1m290/290\u001b[0m \u001b[32m━━━━━━━━━━━━━━━━━━━━\u001b[0m\u001b[37m\u001b[0m \u001b[1m3s\u001b[0m 10ms/step - loss: 0.0045 - val_loss: 0.0043\n",
      "Epoch 34/50\n",
      "\u001b[1m290/290\u001b[0m \u001b[32m━━━━━━━━━━━━━━━━━━━━\u001b[0m\u001b[37m\u001b[0m \u001b[1m3s\u001b[0m 10ms/step - loss: 0.0045 - val_loss: 0.0046\n",
      "Epoch 35/50\n",
      "\u001b[1m290/290\u001b[0m \u001b[32m━━━━━━━━━━━━━━━━━━━━\u001b[0m\u001b[37m\u001b[0m \u001b[1m3s\u001b[0m 10ms/step - loss: 0.0044 - val_loss: 0.0043\n",
      "Epoch 36/50\n",
      "\u001b[1m290/290\u001b[0m \u001b[32m━━━━━━━━━━━━━━━━━━━━\u001b[0m\u001b[37m\u001b[0m \u001b[1m3s\u001b[0m 10ms/step - loss: 0.0047 - val_loss: 0.0044\n",
      "Epoch 37/50\n",
      "\u001b[1m290/290\u001b[0m \u001b[32m━━━━━━━━━━━━━━━━━━━━\u001b[0m\u001b[37m\u001b[0m \u001b[1m3s\u001b[0m 10ms/step - loss: 0.0044 - val_loss: 0.0045\n",
      "Epoch 38/50\n",
      "\u001b[1m290/290\u001b[0m \u001b[32m━━━━━━━━━━━━━━━━━━━━\u001b[0m\u001b[37m\u001b[0m \u001b[1m3s\u001b[0m 10ms/step - loss: 0.0043 - val_loss: 0.0044\n",
      "Epoch 39/50\n",
      "\u001b[1m290/290\u001b[0m \u001b[32m━━━━━━━━━━━━━━━━━━━━\u001b[0m\u001b[37m\u001b[0m \u001b[1m3s\u001b[0m 10ms/step - loss: 0.0044 - val_loss: 0.0044\n",
      "Epoch 40/50\n",
      "\u001b[1m290/290\u001b[0m \u001b[32m━━━━━━━━━━━━━━━━━━━━\u001b[0m\u001b[37m\u001b[0m \u001b[1m3s\u001b[0m 10ms/step - loss: 0.0046 - val_loss: 0.0044\n",
      "Epoch 41/50\n",
      "\u001b[1m290/290\u001b[0m \u001b[32m━━━━━━━━━━━━━━━━━━━━\u001b[0m\u001b[37m\u001b[0m \u001b[1m3s\u001b[0m 9ms/step - loss: 0.0044 - val_loss: 0.0052\n",
      "Epoch 42/50\n",
      "\u001b[1m290/290\u001b[0m \u001b[32m━━━━━━━━━━━━━━━━━━━━\u001b[0m\u001b[37m\u001b[0m \u001b[1m3s\u001b[0m 10ms/step - loss: 0.0045 - val_loss: 0.0049\n",
      "Epoch 43/50\n",
      "\u001b[1m290/290\u001b[0m \u001b[32m━━━━━━━━━━━━━━━━━━━━\u001b[0m\u001b[37m\u001b[0m \u001b[1m5s\u001b[0m 16ms/step - loss: 0.0044 - val_loss: 0.0045\n",
      "Epoch 44/50\n",
      "\u001b[1m290/290\u001b[0m \u001b[32m━━━━━━━━━━━━━━━━━━━━\u001b[0m\u001b[37m\u001b[0m \u001b[1m4s\u001b[0m 13ms/step - loss: 0.0042 - val_loss: 0.0043\n",
      "Epoch 45/50\n",
      "\u001b[1m290/290\u001b[0m \u001b[32m━━━━━━━━━━━━━━━━━━━━\u001b[0m\u001b[37m\u001b[0m \u001b[1m3s\u001b[0m 10ms/step - loss: 0.0042 - val_loss: 0.0043\n",
      "Epoch 46/50\n",
      "\u001b[1m290/290\u001b[0m \u001b[32m━━━━━━━━━━━━━━━━━━━━\u001b[0m\u001b[37m\u001b[0m \u001b[1m3s\u001b[0m 10ms/step - loss: 0.0045 - val_loss: 0.0042\n",
      "Epoch 47/50\n",
      "\u001b[1m290/290\u001b[0m \u001b[32m━━━━━━━━━━━━━━━━━━━━\u001b[0m\u001b[37m\u001b[0m \u001b[1m3s\u001b[0m 10ms/step - loss: 0.0042 - val_loss: 0.0046\n",
      "Epoch 48/50\n",
      "\u001b[1m290/290\u001b[0m \u001b[32m━━━━━━━━━━━━━━━━━━━━\u001b[0m\u001b[37m\u001b[0m \u001b[1m3s\u001b[0m 10ms/step - loss: 0.0043 - val_loss: 0.0043\n",
      "Epoch 49/50\n",
      "\u001b[1m290/290\u001b[0m \u001b[32m━━━━━━━━━━━━━━━━━━━━\u001b[0m\u001b[37m\u001b[0m \u001b[1m3s\u001b[0m 10ms/step - loss: 0.0043 - val_loss: 0.0047\n",
      "Epoch 50/50\n",
      "\u001b[1m290/290\u001b[0m \u001b[32m━━━━━━━━━━━━━━━━━━━━\u001b[0m\u001b[37m\u001b[0m \u001b[1m3s\u001b[0m 10ms/step - loss: 0.0042 - val_loss: 0.0042\n"
     ]
    }
   ],
   "source": [
    "# i am feeding the NN with 32 sequences at a time (batch size). Each of these sequences is made by 30 days of data, each data is made by 8 features\n",
    "# I have 7010 * 0.8 due to train and test set split, these sequences are divided in batches of 32 and with a validation split of 0.2, means that the number of iterations needed to complete each epoch is 7010 * 0.8 * 0.8 / 32 = 140.2\n",
    "history = model.fit(X_train, y_train, epochs=50, batch_size=32, validation_split=0.2)"
   ]
  },
  {
   "cell_type": "code",
   "execution_count": 29,
   "id": "95e23a47",
   "metadata": {},
   "outputs": [
    {
     "name": "stdout",
     "output_type": "stream",
     "text": [
      "\u001b[1m91/91\u001b[0m \u001b[32m━━━━━━━━━━━━━━━━━━━━\u001b[0m\u001b[37m\u001b[0m \u001b[1m1s\u001b[0m 5ms/step\n"
     ]
    }
   ],
   "source": [
    "#** test the model on the test set **\n",
    "y_pred = model.predict(X_test)\n",
    "\n",
    "# invert the normalization of the predicted values\n",
    "y_pred_rescaled = targetScaler.inverse_transform(y_pred)\n",
    "y_test_rescaled = targetScaler.inverse_transform(y_test.reshape(-1, 1))"
   ]
  },
  {
   "cell_type": "code",
   "execution_count": null,
   "id": "84ead30a",
   "metadata": {},
   "outputs": [
    {
     "name": "stdout",
     "output_type": "stream",
     "text": [
      "R2 score: 0.8993\n",
      "MAPE: 0.5511\n"
     ]
    }
   ],
   "source": [
    "from sklearn.metrics import r2_score, mean_absolute_percentage_error\n",
    "r2 = r2_score(y_test_rescaled, y_pred_rescaled)\n",
    "mape = mean_absolute_percentage_error(y_test_rescaled, y_pred_rescaled)\n",
    "\n",
    "print(f\"R2 score: {r2:.4f}\")\n",
    "print(f\"MAPE: {mape:.4f}\")"
   ]
  },
  {
   "cell_type": "code",
   "execution_count": null,
   "id": "feb70e10",
   "metadata": {},
   "outputs": [],
   "source": [
    "smape = symmetric_mean_absolute_percentage_error(y_test_rescaled, y_pred_rescaled)\n",
    "\n",
    "print(f\"SMAPE: {smape:.4f}\")"
   ]
  },
  {
   "cell_type": "code",
   "execution_count": 31,
   "id": "9f85e4e1",
   "metadata": {},
   "outputs": [
    {
     "data": {
      "image/png": "[encoded data removed]",
      "text/plain": [
       "<Figure size 640x480 with 1 Axes>"
      ]
     },
     "metadata": {},
     "output_type": "display_data"
    }
   ],
   "source": [
    "#**  see a plot of the accuracy of the predictions **\n",
    "plt.scatter(y_test_rescaled, y_pred_rescaled)\n",
    "plt.plot([min(y_test_rescaled), max(y_test_rescaled)], [min(y_test_rescaled), max(y_test_rescaled)], color='red', lw=2)  # Identity line\n",
    "plt.xlabel('True ET')\n",
    "plt.ylabel('Predicted ET')\n",
    "plt.title('True vs Predicted Evapotranspiration')\n",
    "plt.show()"
   ]
  }
 ],
 "metadata": {
  "kernelspec": {
   "display_name": ".venv",
   "language": "python",
   "name": "python3"
  },
  "language_info": {
   "codemirror_mode": {
    "name": "ipython",
    "version": 3
   },
   "file_extension": ".py",
   "mimetype": "text/x-python",
   "name": "python",
   "nbconvert_exporter": "python",
   "pygments_lexer": "ipython3",
   "version": "3.10.16"
  }
 },
 "nbformat": 4,
 "nbformat_minor": 5
}
